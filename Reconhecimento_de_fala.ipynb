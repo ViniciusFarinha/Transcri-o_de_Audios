{
 "cells": [
  {
   "cell_type": "code",
   "execution_count": 26,
   "metadata": {},
   "outputs": [
    {
     "name": "stdout",
     "output_type": "stream",
     "text": [
      "Pode falar, estou gravando a mensagem...\n",
      "result2:\n",
      "{   'alternative': [   {   'confidence': 0.6789701,\n",
      "                           'transcript': 'alô alô consegue ouvir consegue '\n",
      "                                         'ouvir'},\n",
      "                       {   'transcript': 'alô alô Conseguiu ouvir conseguiu '\n",
      "                                         'ouvir'},\n",
      "                       {'transcript': 'alô alô consegue ouvir conseguiu ouvir'},\n",
      "                       {'transcript': 'alô alô Conseguiu ouvir conseguiu'},\n",
      "                       {'transcript': 'alô alô Conseguiu ouvir conseguiu ver'}],\n",
      "    'final': True}\n",
      "alô alô consegue ouvir consegue ouvir\n"
     ]
    }
   ],
   "source": [
    "    # Antes de começar, precisa instalar as bibliotecas do SpeechRecognition e o pyaudio\n",
    "    # Before starting, you need to install the SpeechRecognition and pyaudio libraries\n",
    "    \n",
    "    # Importando biblioteca SpeechRecognition\n",
    "    # Importing SpeechRecognition library\n",
    "    \n",
    "import speech_recognition as sr\n",
    "\n",
    "    # Indicar a variável que irá reconhecer o audio para ser transoformado em texto posteriormente\n",
    "    # Indicating the variable that will recognize the audio to be later transformed into text\n",
    "    \n",
    "reconhecedor = sr.Recognizer()\n",
    "\n",
    "    # Identificando o microfone como o captador do audio\n",
    "    # Identifying the microphone as the audio capture device\n",
    "    \n",
    "microfone = sr.Microphone()\n",
    "\n",
    "    # Criar o microfone dentro da estrutura with para evitar que o arquivo de voz se mantenha aberto e uma instância intervale com a outra\n",
    "    # Creating the microphone within the with structure to prevent the voice file from staying open and an instance interfering with another\n",
    "    \n",
    "with sr.Microphone() as mic:\n",
    "    \n",
    "        # Ajuste para o  microfone reconhecer como audio apenas as ondas sonoras que forem de maior amplitude que o ruído\n",
    "        # Setting for the microphone to recognize only sound waves that are of greater amplitude than noise\n",
    "        \n",
    "        reconhecedor.adjust_for_ambient_noise(mic)\n",
    "    \n",
    "        # Aviso do programa que a mensagem pode ser falada pelo usuário\n",
    "        # Warning from the program that the message can be spoken by the user\n",
    "        \n",
    "        print(\"Pode falar, estou gravando a mensagem...\")\n",
    "    \n",
    "        # Arquivar o audio reconhecido pelo microfone dentro da variável audio\n",
    "        # Archiving the audio recognized by the microphone in the variable audio\n",
    "        \n",
    "        audio = reconhecedor.listen(mic)\n",
    "    \n",
    "        # Reconhecer o audio e transformar em texto. Existem varias ferramentas que podem ser utilizadas, eu usei a do google.(O que será reconhecido , linguagem do audio que será reconhecido)\n",
    "        # Recognizing the audio and transforming it into text. There are various tools that can be used, I used the google one. (What will be recognized, language of the audio that will be recognized)\n",
    "        \n",
    "        texto = reconhecedor.recognize_google(audio,language = \"pt-BR\")\n",
    "print(texto)\n"
   ]
  }
 ],
 "metadata": {
  "kernelspec": {
   "display_name": "Python 3",
   "language": "python",
   "name": "python3"
  },
  "language_info": {
   "codemirror_mode": {
    "name": "ipython",
    "version": 3
   },
   "file_extension": ".py",
   "mimetype": "text/x-python",
   "name": "python",
   "nbconvert_exporter": "python",
   "pygments_lexer": "ipython3",
   "version": "3.7.4"
  }
 },
 "nbformat": 4,
 "nbformat_minor": 2
}
